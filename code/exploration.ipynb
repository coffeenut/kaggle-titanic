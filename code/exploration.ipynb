{
 "cells": [
  {
   "cell_type": "code",
   "execution_count": 2,
   "metadata": {},
   "outputs": [
    {
     "name": "stdout",
     "output_type": "stream",
     "text": [
      "Package                      Version\n",
      "---------------------------- -----------\n",
      "absl-py                      1.3.0\n",
      "APScheduler                  3.6.3\n",
      "asttokens                    2.1.0\n",
      "astunparse                   1.6.3\n",
      "backcall                     0.2.0\n",
      "beautifulsoup4               4.11.1\n",
      "bitarray                     2.6.0\n",
      "bs4                          0.0.1\n",
      "cachetools                   4.2.2\n",
      "certifi                      2021.10.8\n",
      "charset-normalizer           2.0.12\n",
      "click                        8.1.3\n",
      "colorama                     0.4.4\n",
      "contourpy                    1.0.6\n",
      "cycler                       0.11.0\n",
      "debugpy                      1.6.3\n",
      "decorator                    5.1.1\n",
      "entrypoints                  0.4\n",
      "executing                    1.2.0\n",
      "flatbuffers                  22.10.26\n",
      "fonttools                    4.38.0\n",
      "gast                         0.4.0\n",
      "google-auth                  2.14.1\n",
      "google-auth-oauthlib         0.4.6\n",
      "google-pasta                 0.2.0\n",
      "grpcio                       1.50.0\n",
      "h5py                         3.7.0\n",
      "idna                         3.3\n",
      "ipykernel                    6.17.0\n",
      "ipython                      8.6.0\n",
      "jedi                         0.18.1\n",
      "jupyter_client               7.4.4\n",
      "jupyter_core                 4.11.2\n",
      "keras                        2.10.0\n",
      "Keras-Preprocessing          1.1.2\n",
      "kiwisolver                   1.4.4\n",
      "libclang                     14.0.6\n",
      "Markdown                     3.4.1\n",
      "MarkupSafe                   2.1.1\n",
      "matplotlib                   3.6.2\n",
      "matplotlib-inline            0.1.6\n",
      "nest-asyncio                 1.5.6\n",
      "numpy                        1.23.4\n",
      "oauthlib                     3.2.2\n",
      "opt-einsum                   3.3.0\n",
      "packaging                    21.3\n",
      "parse                        1.19.0\n",
      "parso                        0.8.3\n",
      "pickleshare                  0.7.5\n",
      "Pillow                       9.1.0\n",
      "pip                          22.3.1\n",
      "prompt-toolkit               3.0.32\n",
      "protobuf                     3.19.6\n",
      "psutil                       5.9.3\n",
      "pure-eval                    0.2.2\n",
      "pyasn1                       0.4.8\n",
      "pyasn1-modules               0.2.8\n",
      "Pygments                     2.13.0\n",
      "pyparsing                    3.0.9\n",
      "python-dateutil              2.8.2\n",
      "python-telegram-bot          13.11\n",
      "pytz                         2022.1\n",
      "pytz-deprecation-shim        0.1.0.post0\n",
      "pywin32                      305\n",
      "pyzmq                        24.0.1\n",
      "requests                     2.27.1\n",
      "requests-oauthlib            1.3.1\n",
      "rsa                          4.9\n",
      "setuptools                   58.1.0\n",
      "six                          1.16.0\n",
      "soupsieve                    2.3.2.post1\n",
      "stack-data                   0.6.0\n",
      "telegram                     0.0.1\n",
      "tensorboard                  2.10.1\n",
      "tensorboard-data-server      0.6.1\n",
      "tensorboard-plugin-wit       1.8.1\n",
      "tensorflow                   2.10.0\n",
      "tensorflow-estimator         2.10.0\n",
      "tensorflow-io-gcs-filesystem 0.27.0\n",
      "termcolor                    2.1.0\n",
      "tornado                      6.2\n",
      "traitlets                    5.5.0\n",
      "typing_extensions            4.4.0\n",
      "tzdata                       2022.1\n",
      "tzlocal                      4.2\n",
      "urllib3                      1.26.9\n",
      "waybackpy                    3.0.6\n",
      "wcwidth                      0.2.5\n",
      "Werkzeug                     2.2.2\n",
      "wheel                        0.38.3\n",
      "wrapt                        1.14.1\n"
     ]
    }
   ],
   "source": [
    "!pip3 list"
   ]
  },
  {
   "cell_type": "code",
   "execution_count": null,
   "metadata": {},
   "outputs": [],
   "source": []
  }
 ],
 "metadata": {
  "kernelspec": {
   "display_name": "Python 3.10.4 64-bit",
   "language": "python",
   "name": "python3"
  },
  "language_info": {
   "codemirror_mode": {
    "name": "ipython",
    "version": 3
   },
   "file_extension": ".py",
   "mimetype": "text/x-python",
   "name": "python",
   "nbconvert_exporter": "python",
   "pygments_lexer": "ipython3",
   "version": "3.10.4"
  },
  "orig_nbformat": 4,
  "vscode": {
   "interpreter": {
    "hash": "89f754895a4bd68b27d99ac799e5bbd9ce8e3201e033a677b8a2fdbdbd2d2e42"
   }
  }
 },
 "nbformat": 4,
 "nbformat_minor": 2
}
