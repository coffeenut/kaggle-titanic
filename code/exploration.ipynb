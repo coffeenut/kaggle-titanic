{
 "cells": [
  {
   "cell_type": "code",
   "execution_count": 8,
   "metadata": {},
   "outputs": [],
   "source": [
    "import pandas as pd\n",
    "import numpy as np\n",
    "import os"
   ]
  },
  {
   "cell_type": "code",
   "execution_count": 32,
   "metadata": {},
   "outputs": [
    {
     "data": {
      "text/html": [
       "<div>\n",
       "<style scoped>\n",
       "    .dataframe tbody tr th:only-of-type {\n",
       "        vertical-align: middle;\n",
       "    }\n",
       "\n",
       "    .dataframe tbody tr th {\n",
       "        vertical-align: top;\n",
       "    }\n",
       "\n",
       "    .dataframe thead th {\n",
       "        text-align: right;\n",
       "    }\n",
       "</style>\n",
       "<table border=\"1\" class=\"dataframe\">\n",
       "  <thead>\n",
       "    <tr style=\"text-align: right;\">\n",
       "      <th></th>\n",
       "      <th>PassengerId</th>\n",
       "      <th>Survived</th>\n",
       "      <th>Pclass</th>\n",
       "      <th>Sex</th>\n",
       "      <th>Age</th>\n",
       "      <th>SibSp</th>\n",
       "      <th>Parch</th>\n",
       "      <th>Fare</th>\n",
       "      <th>Embarked</th>\n",
       "      <th>Family</th>\n",
       "      <th>Title</th>\n",
       "      <th>Deck</th>\n",
       "    </tr>\n",
       "  </thead>\n",
       "  <tbody>\n",
       "    <tr>\n",
       "      <th>0</th>\n",
       "      <td>1</td>\n",
       "      <td>0.0</td>\n",
       "      <td>3</td>\n",
       "      <td>male</td>\n",
       "      <td>22.0</td>\n",
       "      <td>1</td>\n",
       "      <td>0</td>\n",
       "      <td>7.2500</td>\n",
       "      <td>S</td>\n",
       "      <td>1</td>\n",
       "      <td>Mr.</td>\n",
       "      <td>Z</td>\n",
       "    </tr>\n",
       "    <tr>\n",
       "      <th>1</th>\n",
       "      <td>2</td>\n",
       "      <td>1.0</td>\n",
       "      <td>1</td>\n",
       "      <td>female</td>\n",
       "      <td>38.0</td>\n",
       "      <td>1</td>\n",
       "      <td>0</td>\n",
       "      <td>71.2833</td>\n",
       "      <td>C</td>\n",
       "      <td>1</td>\n",
       "      <td>Mrs.</td>\n",
       "      <td>C</td>\n",
       "    </tr>\n",
       "    <tr>\n",
       "      <th>2</th>\n",
       "      <td>3</td>\n",
       "      <td>1.0</td>\n",
       "      <td>3</td>\n",
       "      <td>female</td>\n",
       "      <td>26.0</td>\n",
       "      <td>0</td>\n",
       "      <td>0</td>\n",
       "      <td>7.9250</td>\n",
       "      <td>S</td>\n",
       "      <td>0</td>\n",
       "      <td>Miss.</td>\n",
       "      <td>Z</td>\n",
       "    </tr>\n",
       "    <tr>\n",
       "      <th>3</th>\n",
       "      <td>4</td>\n",
       "      <td>1.0</td>\n",
       "      <td>1</td>\n",
       "      <td>female</td>\n",
       "      <td>35.0</td>\n",
       "      <td>1</td>\n",
       "      <td>0</td>\n",
       "      <td>53.1000</td>\n",
       "      <td>S</td>\n",
       "      <td>1</td>\n",
       "      <td>Mrs.</td>\n",
       "      <td>C</td>\n",
       "    </tr>\n",
       "    <tr>\n",
       "      <th>4</th>\n",
       "      <td>5</td>\n",
       "      <td>0.0</td>\n",
       "      <td>3</td>\n",
       "      <td>male</td>\n",
       "      <td>35.0</td>\n",
       "      <td>0</td>\n",
       "      <td>0</td>\n",
       "      <td>8.0500</td>\n",
       "      <td>S</td>\n",
       "      <td>0</td>\n",
       "      <td>Mr.</td>\n",
       "      <td>Z</td>\n",
       "    </tr>\n",
       "  </tbody>\n",
       "</table>\n",
       "</div>"
      ],
      "text/plain": [
       "   PassengerId  Survived  Pclass     Sex   Age  SibSp  Parch     Fare  \\\n",
       "0            1       0.0       3    male  22.0      1      0   7.2500   \n",
       "1            2       1.0       1  female  38.0      1      0  71.2833   \n",
       "2            3       1.0       3  female  26.0      0      0   7.9250   \n",
       "3            4       1.0       1  female  35.0      1      0  53.1000   \n",
       "4            5       0.0       3    male  35.0      0      0   8.0500   \n",
       "\n",
       "  Embarked  Family  Title Deck  \n",
       "0        S       1    Mr.    Z  \n",
       "1        C       1   Mrs.    C  \n",
       "2        S       0  Miss.    Z  \n",
       "3        S       1   Mrs.    C  \n",
       "4        S       0    Mr.    Z  "
      ]
     },
     "execution_count": 32,
     "metadata": {},
     "output_type": "execute_result"
    }
   ],
   "source": [
    "# load data\n",
    "train_data = pd.read_csv(\"../data/train.csv\")\n",
    "test_data = pd.read_csv(\"../data/test.csv\")\n",
    "\n",
    "# clean up data\n",
    "for t in [test_data, train_data]:\n",
    "    # create a family column that's sibs/spouses + parch\n",
    "    t['Family'] = t.SibSp + t.Parch\n",
    "\n",
    "    # extract titles\n",
    "    t['Title'] = t.Name.str.partition(',')[2].str.split().str[0]\n",
    "\n",
    "    # create a new cabin group for unknown\n",
    "    t.Cabin.fillna('Zed', inplace=True)\n",
    "\n",
    "    # create a Deck column based on cabin values (A..G, etc)\n",
    "    t['Deck'] = t.Cabin.str[0]\n",
    "\n",
    "    # only a few empty values, fill with most likely departure city\n",
    "    t.Embarked.fillna('S', inplace=True)\n",
    "\n",
    "    t.loc[(t.Title.isin(['Don.', 'Rev.', 'Dr.', 'Major.', 'Sir.', 'Col.', 'Capt.', 'the', 'Jonkheer.'])), 'Title'] = \"Mr.\"\n",
    "    t.loc[(t.Title.isin(['Mme.', 'Lady.', 'Mlle.', 'Dona.'])), 'Title'] = \"Mrs.\"\n",
    "    t.loc[(t.Title.isin(['Ms.' ])), 'Title'] = \"Miss.\"\n",
    "\n",
    "\n",
    "    # fill missing ages with something reasonable from title\n",
    "    t.loc[t.Age.isnull() & (t.Title.isin(['Master.'])), 'Age'] = 6\n",
    "    t.loc[t.Age.isnull() & (t.Title.isin(['Miss.'])), 'Age'] = 21\n",
    "    t.loc[t.Age.isnull() & (t.Title.isin(['Mr.'])), 'Age'] = 33\n",
    "    t.loc[t.Age.isnull() & (t.Title.isin(['Mrs.'])), 'Age'] = 36\n",
    "\n",
    "    # change deck T to known deck as it's an outlier that's screwing up training for some reason\n",
    "    # TODO: need to understand why this is the case\n",
    "    t.loc[(t.Deck.isin(['T' ])), 'Deck'] = \"C\"\n",
    "\n",
    "    # drop maybe uselsess columns\n",
    "    t = t.drop(['Ticket', 'Cabin', 'Name'], axis=1, inplace=True)\n",
    "\n",
    "\n",
    "combined_data = pd.concat([train_data,test_data])\n",
    "\n",
    "combined_data.head()\n"
   ]
  },
  {
   "cell_type": "code",
   "execution_count": 33,
   "metadata": {},
   "outputs": [
    {
     "name": "stdout",
     "output_type": "stream",
     "text": [
      "Unique Values\n",
      "PassengerId    1309\n",
      "Survived          2\n",
      "Pclass            3\n",
      "Sex               2\n",
      "Age              98\n",
      "SibSp             7\n",
      "Parch             8\n",
      "Fare            281\n",
      "Embarked          3\n",
      "Family            9\n",
      "Title             4\n",
      "Deck              8\n",
      "dtype: int64\n"
     ]
    }
   ],
   "source": [
    "print(\"Unique Values\")\n",
    "print(combined_data.nunique())"
   ]
  },
  {
   "cell_type": "code",
   "execution_count": 34,
   "metadata": {},
   "outputs": [
    {
     "data": {
      "text/plain": [
       "PassengerId    0\n",
       "Survived       0\n",
       "Pclass         0\n",
       "Sex            0\n",
       "Age            0\n",
       "SibSp          0\n",
       "Parch          0\n",
       "Fare           0\n",
       "Embarked       0\n",
       "Family         0\n",
       "Title          0\n",
       "Deck           0\n",
       "dtype: int64"
      ]
     },
     "execution_count": 34,
     "metadata": {},
     "output_type": "execute_result"
    }
   ],
   "source": [
    "train_data.isnull().sum()"
   ]
  },
  {
   "cell_type": "code",
   "execution_count": 35,
   "metadata": {},
   "outputs": [],
   "source": [
    "#take a look at the nulls for column\n",
    "#combined_data[combined_data['Embarked'].isnull()]\n",
    "#combined_data.SibSp.unique()\n",
    "#combined_data.Parch.unique()\n",
    "#combined_data[combined_data.SibSp == combined_data.Parch]\n"
   ]
  },
  {
   "cell_type": "code",
   "execution_count": 36,
   "metadata": {},
   "outputs": [
    {
     "name": "stdout",
     "output_type": "stream",
     "text": [
      "% of total survived: 38.4% (342 of 891)\n",
      "% of men survived: 18.9% (109 of 577)\n",
      "% of women survived: 74.2% (233 of 314)\n",
      "\n",
      "% of first class survived: 63.0% (136 of 216)\n",
      "% of second class survived: 47.3% (87 of 184)\n",
      "% of third class survived: 24.2% (119 of 491)\n",
      "\n",
      "% of first class men survived: 36.9% (45 of 122)\n",
      "% of second class men survived: 15.7% (17 of 108)\n",
      "% of third class men survived: 13.5% (47 of 347)\n",
      "\n",
      "% of first class women survived: 96.8% (91 of 94)\n",
      "% of second class women survived: 92.1% (70 of 76)\n",
      "% of third class women survived: 50.0% (72 of 144)\n",
      "% of family < 1 survived: 30.4% (163 of 537)\n",
      "% of family < 2 survived: 36.1% (252 of 698)\n",
      "% of family < 3 survived: 38.9% (311 of 800)\n",
      "% of family < 4 survived: 40.0% (332 of 829)\n",
      "% of family < 5 survived: 39.7% (335 of 844)\n",
      "\n",
      "% of Parent/children < 1 survived: 34.4% (233 of 678)\n",
      "% of Parent/children < 2 survived: 37.4% (298 of 796)\n",
      "% of Parent/children < 3 survived: 38.6% (338 of 876)\n",
      "% of Parent/children < 4 survived: 38.7% (341 of 881)\n",
      "% of Parent/children < 5 survived: 38.5% (341 of 885)\n",
      "\n",
      "% of people embarked S survived: 33.9% (219 of 646)\n",
      "% of people embarked C survived: 55.4% (93 of 168)\n",
      "% of people embarked Q survived: 39.0% (30 of 77)\n"
     ]
    }
   ],
   "source": [
    "# take a look at some easy patterns (class, male/female) to see if there are patterns\n",
    "def surviving_percent(row_filter, data):\n",
    "    result = data.loc[row_filter][\"Survived\"]\n",
    "    return (100*sum(result)/len(result)), sum(result), len(result)\n",
    "\n",
    "def print_surviving_percent(filter_desc, row_filter, data):\n",
    "    percent, survived, total = surviving_percent(row_filter, data)\n",
    "    print(f'% of {filter_desc} survived: {percent:.3}% ({survived} of {total})')\n",
    "\n",
    "data = train_data\n",
    "\n",
    "print_surviving_percent('total', (),data)\n",
    "print_surviving_percent('men', (data.Sex == 'male'),data)\n",
    "print_surviving_percent('women', (data.Sex == 'female'),data)\n",
    "print('')\n",
    "print_surviving_percent('first class', (data.Pclass == 1),data)\n",
    "print_surviving_percent('second class', (data.Pclass == 2),data)\n",
    "print_surviving_percent('third class', (data.Pclass == 3),data)\n",
    "print('')\n",
    "print_surviving_percent('first class men', (data.Pclass == 1) & (data.Sex == 'male'),data)\n",
    "print_surviving_percent('second class men', (data.Pclass == 2) & (data.Sex == 'male'),data)\n",
    "print_surviving_percent('third class men', (data.Pclass == 3) & (data.Sex == 'male'),data)\n",
    "print('')\n",
    "print_surviving_percent('first class women', (data.Pclass == 1) & (data.Sex == 'female'),data)\n",
    "print_surviving_percent('second class women', (data.Pclass == 2) & (data.Sex == 'female'),data)\n",
    "print_surviving_percent('third class women', (data.Pclass == 3) & (data.Sex == 'female'),data)\n",
    "#print('')\n",
    "#print_surviving_percent('children 4 and under', (data.Age <= 4.0) ,data)\n",
    "#print_surviving_percent('children 8 and under', (data.Age <= 8.0) ,data)\n",
    "#print_surviving_percent('children 8 to 16', (data.Age >= 8.0) & (data.Age <= 16.0),data)\n",
    "#print_surviving_percent('people over 16', (data.Age > 16.0) ,data)\n",
    "#print('')\n",
    "#print_surviving_percent('people wihtout age', (data['Age'].isnull()) ,data)\n",
    "#print_surviving_percent('men wihtout age', (data['Age'].isnull() & (data.Sex == 'male')) ,data)\n",
    "#print_surviving_percent('women wihtout age', (data['Age'].isnull() & (data.Sex == 'female')) ,data)\n",
    "#print('')\n",
    "#print_surviving_percent('people wihtout cabin', (data['Cabin'].isnull()) ,data)\n",
    "#print_surviving_percent('men wihtout cabin', (data['Cabin'].isnull() & (data.Sex == 'male')) ,data)\n",
    "#print_surviving_percent('women wihtout cabin', (data['Cabin'].isnull() & (data.Sex == 'female')) ,data)\n",
    "#print('')\n",
    "#print_surviving_percent('people embarked S', (data.Embarked == 'S') ,data)\n",
    "#print_surviving_percent('people embarked C', (data.Embarked == 'C') ,data)\n",
    "#print_surviving_percent('people embarked Q', (data.Embarked == 'Q') ,data)\n",
    "#print('')\n",
    "print_surviving_percent('family < 1', (data.Family < 1) ,data)\n",
    "print_surviving_percent('family < 2', (data.Family < 2) ,data)\n",
    "print_surviving_percent('family < 3', (data.Family < 3) ,data)\n",
    "print_surviving_percent('family < 4', (data.Family < 4) ,data)\n",
    "print_surviving_percent('family < 5', (data.Family < 5) ,data)\n",
    "print('')\n",
    "print_surviving_percent('Parent/children < 1', (data.Parch < 1) ,data)\n",
    "print_surviving_percent('Parent/children < 2', (data.Parch < 2) ,data)\n",
    "print_surviving_percent('Parent/children < 3', (data.Parch < 3) ,data)\n",
    "print_surviving_percent('Parent/children < 4', (data.Parch < 4) ,data)\n",
    "print_surviving_percent('Parent/children < 5', (data.Parch < 5) ,data)\n",
    "print('')\n",
    "print_surviving_percent('people embarked S', (data.Embarked == 'S') ,data)\n",
    "print_surviving_percent('people embarked C', (data.Embarked == 'C') ,data)\n",
    "print_surviving_percent('people embarked Q', (data.Embarked == 'Q') ,data)\n",
    "\n"
   ]
  },
  {
   "cell_type": "code",
   "execution_count": 39,
   "metadata": {},
   "outputs": [
    {
     "name": "stdout",
     "output_type": "stream",
     "text": [
      "decks: ['Z' 'C' 'E' 'G' 'D' 'A' 'B' 'F']\n",
      "% of Deck A survived: 46.7% (7 of 15)\n",
      "% of Deck B survived: 74.5% (35 of 47)\n",
      "% of Deck C survived: 58.3% (35 of 60)\n",
      "% of Deck D survived: 75.8% (25 of 33)\n",
      "% of Deck E survived: 75.0% (24 of 32)\n",
      "% of Deck F survived: 61.5% (8 of 13)\n",
      "% of Deck G survived: 50.0% (2 of 4)\n",
      "% of Deck Z survived: 30.0% (206 of 687)\n"
     ]
    }
   ],
   "source": [
    "vals = combined_data.Deck\n",
    "print(f'decks: {vals.unique()}')\n",
    "print_surviving_percent('Deck A', (train_data.Deck == 'A') ,data)\n",
    "print_surviving_percent('Deck B', (train_data.Deck == 'B') ,data)\n",
    "print_surviving_percent('Deck C', (train_data.Deck == 'C') ,data)\n",
    "print_surviving_percent('Deck D', (train_data.Deck == 'D') ,data)\n",
    "print_surviving_percent('Deck E', (train_data.Deck == 'E') ,data)\n",
    "print_surviving_percent('Deck F', (train_data.Deck == 'F') ,data)\n",
    "print_surviving_percent('Deck G', (train_data.Deck == 'G') ,data)\n",
    "#print_surviving_percent('Deck T', (train_data.Deck == 'T') ,data)\n",
    "print_surviving_percent('Deck Z', (train_data.Deck == 'Z') ,data)\n"
   ]
  },
  {
   "cell_type": "code",
   "execution_count": 40,
   "metadata": {},
   "outputs": [
    {
     "data": {
      "text/plain": [
       "array(['Mr.', 'Mrs.', 'Miss.', 'Master.'], dtype=object)"
      ]
     },
     "execution_count": 40,
     "metadata": {},
     "output_type": "execute_result"
    }
   ],
   "source": [
    " # get unique titles\n",
    " titles = combined_data.Title.unique()\n",
    "titles "
   ]
  },
  {
   "cell_type": "code",
   "execution_count": null,
   "metadata": {},
   "outputs": [],
   "source": []
  },
  {
   "cell_type": "code",
   "execution_count": 41,
   "metadata": {},
   "outputs": [
    {
     "data": {
      "text/html": [
       "<div>\n",
       "<style scoped>\n",
       "    .dataframe tbody tr th:only-of-type {\n",
       "        vertical-align: middle;\n",
       "    }\n",
       "\n",
       "    .dataframe tbody tr th {\n",
       "        vertical-align: top;\n",
       "    }\n",
       "\n",
       "    .dataframe thead th {\n",
       "        text-align: right;\n",
       "    }\n",
       "</style>\n",
       "<table border=\"1\" class=\"dataframe\">\n",
       "  <thead>\n",
       "    <tr style=\"text-align: right;\">\n",
       "      <th></th>\n",
       "      <th>PassengerId</th>\n",
       "      <th>Survived</th>\n",
       "      <th>Pclass</th>\n",
       "      <th>Sex</th>\n",
       "      <th>Age</th>\n",
       "      <th>SibSp</th>\n",
       "      <th>Parch</th>\n",
       "      <th>Fare</th>\n",
       "      <th>Embarked</th>\n",
       "      <th>Family</th>\n",
       "      <th>Title</th>\n",
       "      <th>Deck</th>\n",
       "    </tr>\n",
       "  </thead>\n",
       "  <tbody>\n",
       "  </tbody>\n",
       "</table>\n",
       "</div>"
      ],
      "text/plain": [
       "Empty DataFrame\n",
       "Columns: [PassengerId, Survived, Pclass, Sex, Age, SibSp, Parch, Fare, Embarked, Family, Title, Deck]\n",
       "Index: []"
      ]
     },
     "execution_count": 41,
     "metadata": {},
     "output_type": "execute_result"
    }
   ],
   "source": [
    "combined_data[combined_data.Deck == 'T']"
   ]
  },
  {
   "cell_type": "code",
   "execution_count": 42,
   "metadata": {},
   "outputs": [
    {
     "name": "stdout",
     "output_type": "stream",
     "text": [
      "Mr. : 784, avg age: 32.85395408163265\n",
      "Mrs. : 202, avg age: 36.73267326732673\n",
      "Miss. : 262, avg age: 21.647290076335878\n",
      "Master. : 61, avg age: 5.550491803278687\n",
      "\n",
      "Mr. : 539, avg age: 33.01762523191095\n",
      "Mrs. : 129, avg age: 35.72868217054263\n",
      "Miss. : 183, avg age: 21.65573770491803\n",
      "Master. : 40, avg age: 4.716749999999999\n",
      "\n",
      "Mr. : 245, avg age: 32.49387755102041\n",
      "Mrs. : 73, avg age: 38.50684931506849\n",
      "Miss. : 79, avg age: 21.627721518987343\n",
      "Master. : 21, avg age: 7.138571428571429\n",
      "\n"
     ]
    }
   ],
   "source": [
    "for ds in [combined_data, train_data, test_data]:\n",
    "    for t in ds.Title.unique():\n",
    "        c = len(ds[ds.Title == t])\n",
    "        av = sum(ds[ds.Title == t].Age)/c\n",
    "        print(f'{t} : {c}, avg age: {av}')\n",
    "    print()"
   ]
  },
  {
   "cell_type": "code",
   "execution_count": 45,
   "metadata": {},
   "outputs": [
    {
     "name": "stdout",
     "output_type": "stream",
     "text": [
      "Your submission was successfully saved!\n"
     ]
    }
   ],
   "source": [
    "#train\n",
    "from sklearn.ensemble import RandomForestClassifier\n",
    "y = train_data.Survived\n",
    "features = ['Pclass','Sex','Age','SibSp','Parch','Embarked','Family','Title','Deck']\n",
    "\n",
    "X = pd.get_dummies(train_data[features])\n",
    "X_test = pd.get_dummies(test_data[features])\n",
    "\n",
    "#sub 1: 100/5\n",
    "#sub 2: 200/50\n",
    "\n",
    "model = RandomForestClassifier(n_estimators=200, max_depth=10, random_state=1)\n",
    "model.fit(X, y)\n",
    "predictions = model.predict(X_test)\n",
    "\n",
    "output = pd.DataFrame({'PassengerId': test_data.PassengerId, 'Survived': predictions})\n",
    "output.to_csv('submission.csv', index=False)\n",
    "print(\"Your submission was successfully saved!\")"
   ]
  },
  {
   "cell_type": "code",
   "execution_count": 25,
   "metadata": {},
   "outputs": [
    {
     "data": {
      "text/plain": [
       "Index(['PassengerId', 'Survived', 'Pclass', 'Sex', 'Age', 'SibSp', 'Parch',\n",
       "       'Fare', 'Embarked', 'Family', 'Title', 'Deck'],\n",
       "      dtype='object')"
      ]
     },
     "execution_count": 25,
     "metadata": {},
     "output_type": "execute_result"
    }
   ],
   "source": [
    "train_data.columns"
   ]
  },
  {
   "cell_type": "code",
   "execution_count": 26,
   "metadata": {},
   "outputs": [
    {
     "data": {
      "text/plain": [
       "Index(['PassengerId', 'Pclass', 'Sex', 'Age', 'SibSp', 'Parch', 'Fare',\n",
       "       'Embarked', 'Family', 'Title', 'Deck'],\n",
       "      dtype='object')"
      ]
     },
     "execution_count": 26,
     "metadata": {},
     "output_type": "execute_result"
    }
   ],
   "source": [
    "test_data.columns"
   ]
  },
  {
   "cell_type": "code",
   "execution_count": 29,
   "metadata": {},
   "outputs": [
    {
     "data": {
      "text/plain": [
       "Index(['Pclass', 'Age', 'SibSp', 'Parch', 'Family', 'Sex_female', 'Sex_male',\n",
       "       'Embarked_C', 'Embarked_Q', 'Embarked_S', 'Title_Master.',\n",
       "       'Title_Miss.', 'Title_Mr.', 'Title_Mrs.', 'Deck_A', 'Deck_B', 'Deck_C',\n",
       "       'Deck_D', 'Deck_E', 'Deck_F', 'Deck_G', 'Deck_T', 'Deck_Z'],\n",
       "      dtype='object')"
      ]
     },
     "execution_count": 29,
     "metadata": {},
     "output_type": "execute_result"
    }
   ],
   "source": [
    "X.columns"
   ]
  },
  {
   "cell_type": "code",
   "execution_count": 30,
   "metadata": {},
   "outputs": [
    {
     "data": {
      "text/plain": [
       "Index(['Pclass', 'Age', 'SibSp', 'Parch', 'Family', 'Sex_female', 'Sex_male',\n",
       "       'Embarked_C', 'Embarked_Q', 'Embarked_S', 'Title_Master.',\n",
       "       'Title_Miss.', 'Title_Mr.', 'Title_Mrs.', 'Deck_A', 'Deck_B', 'Deck_C',\n",
       "       'Deck_D', 'Deck_E', 'Deck_F', 'Deck_G', 'Deck_Z'],\n",
       "      dtype='object')"
      ]
     },
     "execution_count": 30,
     "metadata": {},
     "output_type": "execute_result"
    }
   ],
   "source": [
    "X_test.columns"
   ]
  },
  {
   "cell_type": "code",
   "execution_count": null,
   "metadata": {},
   "outputs": [],
   "source": []
  }
 ],
 "metadata": {
  "kernelspec": {
   "display_name": "Python 3.8.10 ('.venv': venv)",
   "language": "python",
   "name": "python3"
  },
  "language_info": {
   "codemirror_mode": {
    "name": "ipython",
    "version": 3
   },
   "file_extension": ".py",
   "mimetype": "text/x-python",
   "name": "python",
   "nbconvert_exporter": "python",
   "pygments_lexer": "ipython3",
   "version": "3.8.10"
  },
  "orig_nbformat": 4,
  "vscode": {
   "interpreter": {
    "hash": "0a3bd0c90f4e414d6458c719ec4e7d86e1c014526e5495cf29204fdf1accb030"
   }
  }
 },
 "nbformat": 4,
 "nbformat_minor": 2
}
